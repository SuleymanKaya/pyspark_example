{
 "cells": [
  {
   "cell_type": "code",
   "execution_count": null,
   "id": "initial_id",
   "metadata": {
    "collapsed": true
   },
   "outputs": [],
   "source": [
    "%sql\n",
    "select * from demo_db.fire_department_calls"
   ]
  },
  {
   "cell_type": "code",
   "outputs": [],
   "source": [
    "%md\n",
    "#### 1) How many distinct types of calls were made to the fire department? \n",
    "*İtfaiye departmanına kaç farklı türde çağrı yapılmıştır?*"
   ],
   "metadata": {
    "collapsed": false
   },
   "id": "a6cf5970d4524382"
  },
  {
   "cell_type": "code",
   "outputs": [],
   "source": [
    "%sql\n",
    "select count(distinct call_type) from demo_db.fire_department_calls"
   ],
   "metadata": {
    "collapsed": false
   },
   "id": "bb7a7a9b5aa7235e"
  },
  {
   "cell_type": "code",
   "outputs": [],
   "source": [
    "%md\n",
    "#### 2) What are distinct types of calls made to the fire department? \n",
    "*İtfaiye departmanına yapılan farklı türdeki çağrılar nelerdir?*"
   ],
   "metadata": {
    "collapsed": false
   },
   "id": "44425d59e1064b6"
  },
  {
   "cell_type": "code",
   "outputs": [],
   "source": [
    "%sql\n",
    "select distinct call_type from demo_db.fire_department_calls"
   ],
   "metadata": {
    "collapsed": false
   },
   "id": "7c60f838e36233d5"
  },
  {
   "cell_type": "code",
   "outputs": [],
   "source": [
    "%md\n",
    "#### 3) Find out all responses for delayed times greater than 5 mins?\n",
    "*5 dakikadan uzun gecikme süreleri için tüm yanıtları bulun* "
   ],
   "metadata": {
    "collapsed": false
   },
   "id": "b52fad50535b6b21"
  },
  {
   "cell_type": "code",
   "outputs": [],
   "source": [
    "%sql\n",
    "SELECT call_number, (UNIX_TIMESTAMP(dispatch_dttm) - UNIX_TIMESTAMP(received_dttm))/60 AS delayed_time\n",
    "FROM demo_db.fire_department_calls\n",
    "WHERE (UNIX_TIMESTAMP(dispatch_dttm) - UNIX_TIMESTAMP(received_dttm))/60 > 5\n",
    "ORDER BY delayed_time DESC"
   ],
   "metadata": {
    "collapsed": false
   },
   "id": "d74f670dd617d4b6"
  },
  {
   "cell_type": "code",
   "outputs": [],
   "source": [
    "%md\n",
    "#### 4) What were the most common call types? \n",
    "*En yaygın çağrı türleri nelerdi?*"
   ],
   "metadata": {
    "collapsed": false
   },
   "id": "6d5daf3213651ec1"
  },
  {
   "cell_type": "code",
   "outputs": [],
   "source": [
    "%sql\n",
    "select call_type, count(*) as call_count \n",
    "from demo_db.fire_department_calls\n",
    "group by call_type\n",
    "order by call_count desc"
   ],
   "metadata": {
    "collapsed": false
   },
   "id": "86de59f1ab3f2567"
  },
  {
   "cell_type": "code",
   "outputs": [],
   "source": [
    "%md\n",
    "#### 5) What zip codes accounted for the most common calls (types)? \n",
    "*En yaygın çağrıların hangi posta kodları hesaplandı?*"
   ],
   "metadata": {
    "collapsed": false
   },
   "id": "ebf20ab6c71f7f96"
  },
  {
   "cell_type": "code",
   "outputs": [],
   "source": [
    "%sql\n",
    "select call_type, zipcode_of_incident, count(*) as call_count \n",
    "from demo_db.fire_department_calls\n",
    "group by call_type, zipcode_of_incident\n",
    "order by call_count desc"
   ],
   "metadata": {
    "collapsed": false
   },
   "id": "b1c8b54ffdbfc78c"
  },
  {
   "cell_type": "code",
   "outputs": [],
   "source": [
    "%md\n",
    "#### 6) What San Francisco neighborhoods are in the zip codes 94102 and 94103\n",
    "*94102 ve 94103 posta kodlarında hangi San Francisco mahalleleri bulunmaktadır?* "
   ],
   "metadata": {
    "collapsed": false
   },
   "id": "4493e8c4c6875175"
  },
  {
   "cell_type": "code",
   "outputs": [],
   "source": [
    "%sql\n",
    "select neighborhoods_analysis_boundaries from demo_db.fire_department_calls\n",
    "where zipcode_of_incident in (94102, 94103)"
   ],
   "metadata": {
    "collapsed": false
   },
   "id": "274cd83293183e28"
  },
  {
   "cell_type": "code",
   "outputs": [],
   "source": [
    "%md\n",
    "#### 7) What was the sum of all calls, average, min, and max of the call response times? \n",
    "*Tüm çağrıların toplamı ve ortalama, minimum ve maksimum yanıt süreleri nedir?*"
   ],
   "metadata": {
    "collapsed": false
   },
   "id": "c0536530691990d5"
  },
  {
   "cell_type": "code",
   "outputs": [],
   "source": [
    "%sql\n",
    "with first_query as (\n",
    "  select call_number, (UNIX_TIMESTAMP(dispatch_dttm) - UNIX_TIMESTAMP(received_dttm))/60 AS delayed_time\n",
    "  from demo_db.fire_department_calls\n",
    ")\n",
    "select count(call_number), avg(delayed_time), min(delayed_time), max(delayed_time) \n",
    "from first_query"
   ],
   "metadata": {
    "collapsed": false
   },
   "id": "a3708a93d1c6b764"
  },
  {
   "cell_type": "code",
   "outputs": [],
   "source": [
    "%md\n",
    "#### 8) How many distinct years of data are in the CSV file?\n",
    "*CSV dosyasındaki kaç farklı yıl verisi vardır?* "
   ],
   "metadata": {
    "collapsed": false
   },
   "id": "3c4cfd318fd76320"
  },
  {
   "cell_type": "code",
   "outputs": [],
   "source": [
    "%sql\n",
    "-- select distinct year(call_date) from demo_db.fire_department_calls\n",
    "-- select distinct year(to_date(call_date, 'yyyy-mm-dd')) from demo_db.fire_department_calls # if call_date is string\n",
    "select count(distinct year(call_date)) from demo_db.fire_department_calls"
   ],
   "metadata": {
    "collapsed": false
   },
   "id": "727f6ea01fd5b89e"
  },
  {
   "cell_type": "code",
   "outputs": [],
   "source": [
    "%md\n",
    "#### 9) What week of the year in 2006 had the most fire calls? \n",
    "*2006'in kaçıncı haftası en fazla itfaiye çağrısını gösteriyor?*"
   ],
   "metadata": {
    "collapsed": false
   },
   "id": "7bc4ca7c95024228"
  },
  {
   "cell_type": "code",
   "outputs": [],
   "source": [
    "%sql\n",
    "select weekofyear(call_date) as weekofyear, count(*) as fire_call_count from demo_db.fire_department_calls\n",
    "where year(call_date) == 2006\n",
    "group by weekofyear(call_date)\n",
    "order by fire_call_count desc limit 1"
   ],
   "metadata": {
    "collapsed": false
   },
   "id": "821b53b335ca2ea"
  },
  {
   "cell_type": "code",
   "outputs": [],
   "source": [
    "%md\n",
    "#### 10) What neighborhoods in San Francisco had the worst response time in 2006? \n",
    "*2006'de San Francisco mahallelerinde en kötü yanıt süresine sahip mahalleler hangileridir?*"
   ],
   "metadata": {
    "collapsed": false
   },
   "id": "fc19cd7ceb5ffd11"
  },
  {
   "cell_type": "code",
   "outputs": [],
   "source": [
    "%sql\n",
    "select neighborhoods_analysis_boundaries, avg(UNIX_TIMESTAMP(dispatch_dttm) - UNIX_TIMESTAMP(received_dttm)) as avg_delayed_time\n",
    "from demo_db.fire_department_calls\n",
    "where year(call_date) == 2006\n",
    "group by neighborhoods_analysis_boundaries\n",
    "order by avg_delayed_time desc\n",
    "limit 1"
   ],
   "metadata": {
    "collapsed": false
   },
   "id": "2b8a18eb5441faee"
  }
 ],
 "metadata": {
  "kernelspec": {
   "display_name": "Python 3",
   "language": "python",
   "name": "python3"
  },
  "language_info": {
   "codemirror_mode": {
    "name": "ipython",
    "version": 2
   },
   "file_extension": ".py",
   "mimetype": "text/x-python",
   "name": "python",
   "nbconvert_exporter": "python",
   "pygments_lexer": "ipython2",
   "version": "2.7.6"
  }
 },
 "nbformat": 4,
 "nbformat_minor": 5
}
