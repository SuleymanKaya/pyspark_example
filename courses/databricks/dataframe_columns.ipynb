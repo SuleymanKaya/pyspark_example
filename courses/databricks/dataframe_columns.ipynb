{
 "cells": [
  {
   "cell_type": "code",
   "source": [
    "%fs ls /databricks-datasets/"
   ],
   "metadata": {},
   "outputs": [
    {
     "metadata": {},
     "output_type": "display_data",
     "data": {
      "text/html": [
       "<style scoped>\n  .table-result-container {\n    max-height: 300px;\n    overflow: auto;\n  }\n  table, th, td {\n    border: 1px solid black;\n    border-collapse: collapse;\n  }\n  th, td {\n    padding: 5px;\n  }\n  th {\n    text-align: left;\n  }\n</style><div class='table-result-container'><table class='table-result'><thead style='background-color: white'><tr><th>path</th><th>name</th><th>size</th></tr></thead><tbody><tr><td>dbfs:/databricks-datasets/</td><td>databricks-datasets/</td><td>0</td></tr><tr><td>dbfs:/databricks-datasets/COVID/</td><td>COVID/</td><td>0</td></tr><tr><td>dbfs:/databricks-datasets/README.md</td><td>README.md</td><td>976</td></tr><tr><td>dbfs:/databricks-datasets/Rdatasets/</td><td>Rdatasets/</td><td>0</td></tr><tr><td>dbfs:/databricks-datasets/SPARK_README.md</td><td>SPARK_README.md</td><td>3359</td></tr><tr><td>dbfs:/databricks-datasets/adult/</td><td>adult/</td><td>0</td></tr><tr><td>dbfs:/databricks-datasets/airlines/</td><td>airlines/</td><td>0</td></tr><tr><td>dbfs:/databricks-datasets/amazon/</td><td>amazon/</td><td>0</td></tr><tr><td>dbfs:/databricks-datasets/asa/</td><td>asa/</td><td>0</td></tr><tr><td>dbfs:/databricks-datasets/atlas_higgs/</td><td>atlas_higgs/</td><td>0</td></tr><tr><td>dbfs:/databricks-datasets/bikeSharing/</td><td>bikeSharing/</td><td>0</td></tr><tr><td>dbfs:/databricks-datasets/cctvVideos/</td><td>cctvVideos/</td><td>0</td></tr><tr><td>dbfs:/databricks-datasets/credit-card-fraud/</td><td>credit-card-fraud/</td><td>0</td></tr><tr><td>dbfs:/databricks-datasets/cs100/</td><td>cs100/</td><td>0</td></tr><tr><td>dbfs:/databricks-datasets/cs110x/</td><td>cs110x/</td><td>0</td></tr><tr><td>dbfs:/databricks-datasets/cs190/</td><td>cs190/</td><td>0</td></tr><tr><td>dbfs:/databricks-datasets/data.gov/</td><td>data.gov/</td><td>0</td></tr><tr><td>dbfs:/databricks-datasets/definitive-guide/</td><td>definitive-guide/</td><td>0</td></tr><tr><td>dbfs:/databricks-datasets/flights/</td><td>flights/</td><td>0</td></tr><tr><td>dbfs:/databricks-datasets/flower_photos/</td><td>flower_photos/</td><td>0</td></tr><tr><td>dbfs:/databricks-datasets/flowers/</td><td>flowers/</td><td>0</td></tr><tr><td>dbfs:/databricks-datasets/genomics/</td><td>genomics/</td><td>0</td></tr><tr><td>dbfs:/databricks-datasets/hail/</td><td>hail/</td><td>0</td></tr><tr><td>dbfs:/databricks-datasets/iot/</td><td>iot/</td><td>0</td></tr><tr><td>dbfs:/databricks-datasets/iot-stream/</td><td>iot-stream/</td><td>0</td></tr><tr><td>dbfs:/databricks-datasets/learning-spark/</td><td>learning-spark/</td><td>0</td></tr><tr><td>dbfs:/databricks-datasets/learning-spark-v2/</td><td>learning-spark-v2/</td><td>0</td></tr><tr><td>dbfs:/databricks-datasets/lending-club-loan-stats/</td><td>lending-club-loan-stats/</td><td>0</td></tr><tr><td>dbfs:/databricks-datasets/med-images/</td><td>med-images/</td><td>0</td></tr><tr><td>dbfs:/databricks-datasets/mnist-digits/</td><td>mnist-digits/</td><td>0</td></tr><tr><td>dbfs:/databricks-datasets/news20.binary/</td><td>news20.binary/</td><td>0</td></tr><tr><td>dbfs:/databricks-datasets/nyctaxi/</td><td>nyctaxi/</td><td>0</td></tr><tr><td>dbfs:/databricks-datasets/online_retail/</td><td>online_retail/</td><td>0</td></tr><tr><td>dbfs:/databricks-datasets/overlap-join/</td><td>overlap-join/</td><td>0</td></tr><tr><td>dbfs:/databricks-datasets/power-plant/</td><td>power-plant/</td><td>0</td></tr><tr><td>dbfs:/databricks-datasets/rwe/</td><td>rwe/</td><td>0</td></tr><tr><td>dbfs:/databricks-datasets/sai-summit-2019-sf/</td><td>sai-summit-2019-sf/</td><td>0</td></tr><tr><td>dbfs:/databricks-datasets/sample_logs/</td><td>sample_logs/</td><td>0</td></tr><tr><td>dbfs:/databricks-datasets/samples/</td><td>samples/</td><td>0</td></tr><tr><td>dbfs:/databricks-datasets/sfo_customer_survey/</td><td>sfo_customer_survey/</td><td>0</td></tr><tr><td>dbfs:/databricks-datasets/sms_spam_collection/</td><td>sms_spam_collection/</td><td>0</td></tr><tr><td>dbfs:/databricks-datasets/songs/</td><td>songs/</td><td>0</td></tr><tr><td>dbfs:/databricks-datasets/structured-streaming/</td><td>structured-streaming/</td><td>0</td></tr><tr><td>dbfs:/databricks-datasets/timeseries/</td><td>timeseries/</td><td>0</td></tr><tr><td>dbfs:/databricks-datasets/tpch/</td><td>tpch/</td><td>0</td></tr><tr><td>dbfs:/databricks-datasets/weather/</td><td>weather/</td><td>0</td></tr><tr><td>dbfs:/databricks-datasets/wiki/</td><td>wiki/</td><td>0</td></tr><tr><td>dbfs:/databricks-datasets/wikipedia-datasets/</td><td>wikipedia-datasets/</td><td>0</td></tr></tbody></table></div>"
      ]
     }
    }
   ],
   "execution_count": 1
  },
  {
   "cell_type": "code",
   "source": [
    "airlinesDF = spark.read \\\n",
    ".format(\"csv\") \\\n",
    ".option(\"header\", \"true\") \\\n",
    ".option(\"inferSchema\",\"true\") \\\n",
    ".option(\"samplingRatio\", \"0.0001\") \\\n",
    ".load(\"/databricks-datasets/airlines/part-00000\")"
   ],
   "metadata": {},
   "outputs": [
    {
     "metadata": {},
     "output_type": "display_data",
     "data": {
      "text/html": [
       "<style scoped>\n  .ansiout {\n    display: block;\n    unicode-bidi: embed;\n    white-space: pre-wrap;\n    word-wrap: break-word;\n    word-break: break-all;\n    font-family: \"Source Code Pro\", \"Menlo\", monospace;;\n    font-size: 13px;\n    color: #555;\n    margin-left: 4px;\n    line-height: 19px;\n  }\n</style>\n<div class=\"ansiout\"></div>"
      ]
     }
    }
   ],
   "execution_count": 4
  },
  {
   "cell_type": "code",
   "source": [
    "airlinesDF.select(\"Origin\", \"Dest\", \"Distance\" ).show(10)"
   ],
   "metadata": {},
   "outputs": [
    {
     "metadata": {},
     "output_type": "display_data",
     "data": {
      "text/html": [
       "<style scoped>\n  .ansiout {\n    display: block;\n    unicode-bidi: embed;\n    white-space: pre-wrap;\n    word-wrap: break-word;\n    word-break: break-all;\n    font-family: \"Source Code Pro\", \"Menlo\", monospace;;\n    font-size: 13px;\n    color: #555;\n    margin-left: 4px;\n    line-height: 19px;\n  }\n</style>\n<div class=\"ansiout\">+------+----+--------+\nOrigin|Dest|Distance|\n+------+----+--------+\n   SAN| SFO|     447|\n   SAN| SFO|     447|\n   SAN| SFO|     447|\n   SAN| SFO|     447|\n   SAN| SFO|     447|\n   SAN| SFO|     447|\n   SAN| SFO|     447|\n   SAN| SFO|     447|\n   SAN| SFO|     447|\n   SAN| SFO|     447|\n+------+----+--------+\nonly showing top 10 rows\n\n</div>"
      ]
     }
    }
   ],
   "execution_count": 5
  },
  {
   "cell_type": "code",
   "source": [
    "from pyspark.sql.functions import *\n",
    "airlinesDF.select(column(\"Origin\"), col(\"Dest\"), \"Distance\").show(10)"
   ],
   "metadata": {},
   "outputs": [
    {
     "metadata": {},
     "output_type": "display_data",
     "data": {
      "text/html": [
       "<style scoped>\n  .ansiout {\n    display: block;\n    unicode-bidi: embed;\n    white-space: pre-wrap;\n    word-wrap: break-word;\n    word-break: break-all;\n    font-family: \"Source Code Pro\", \"Menlo\", monospace;;\n    font-size: 13px;\n    color: #555;\n    margin-left: 4px;\n    line-height: 19px;\n  }\n</style>\n<div class=\"ansiout\">+------+----+--------+\nOrigin|Dest|Distance|\n+------+----+--------+\n   SAN| SFO|     447|\n   SAN| SFO|     447|\n   SAN| SFO|     447|\n   SAN| SFO|     447|\n   SAN| SFO|     447|\n   SAN| SFO|     447|\n   SAN| SFO|     447|\n   SAN| SFO|     447|\n   SAN| SFO|     447|\n   SAN| SFO|     447|\n+------+----+--------+\nonly showing top 10 rows\n\n</div>"
      ]
     }
    }
   ],
   "execution_count": 6
  },
  {
   "cell_type": "code",
   "source": [
    "airlinesDF.selectExpr(\"Origin\", \"Dest\", \"Distance\", \"to_date(concat(Year,Month,DayofMonth),'yyyyMMdd') as FlightDate\").show(10)"
   ],
   "metadata": {},
   "outputs": [
    {
     "metadata": {},
     "output_type": "display_data",
     "data": {
      "text/html": [
       "<style scoped>\n  .ansiout {\n    display: block;\n    unicode-bidi: embed;\n    white-space: pre-wrap;\n    word-wrap: break-word;\n    word-break: break-all;\n    font-family: \"Source Code Pro\", \"Menlo\", monospace;;\n    font-size: 13px;\n    color: #555;\n    margin-left: 4px;\n    line-height: 19px;\n  }\n</style>\n<div class=\"ansiout\">+------+----+--------+----------+\nOrigin|Dest|Distance|FlightDate|\n+------+----+--------+----------+\n   SAN| SFO|     447|1987-10-14|\n   SAN| SFO|     447|1987-10-15|\n   SAN| SFO|     447|1987-10-17|\n   SAN| SFO|     447|1987-10-18|\n   SAN| SFO|     447|1987-10-19|\n   SAN| SFO|     447|1987-10-21|\n   SAN| SFO|     447|1987-10-22|\n   SAN| SFO|     447|1987-10-23|\n   SAN| SFO|     447|1987-10-24|\n   SAN| SFO|     447|1987-10-25|\n+------+----+--------+----------+\nonly showing top 10 rows\n\n</div>"
      ]
     }
    }
   ],
   "execution_count": 8
  },
  {
   "cell_type": "code",
   "source": [
    "airlinesDF.select(\"Origin\", \"Dest\", \"Distance\", to_date(concat(\"Year\",\"Month\",\"DayofMonth\"),\"yyyyMMdd\").alias(\"FlightDate\")).show(10)"
   ],
   "metadata": {},
   "outputs": [
    {
     "metadata": {},
     "output_type": "display_data",
     "data": {
      "text/html": [
       "<style scoped>\n  .ansiout {\n    display: block;\n    unicode-bidi: embed;\n    white-space: pre-wrap;\n    word-wrap: break-word;\n    word-break: break-all;\n    font-family: \"Source Code Pro\", \"Menlo\", monospace;;\n    font-size: 13px;\n    color: #555;\n    margin-left: 4px;\n    line-height: 19px;\n  }\n</style>\n<div class=\"ansiout\">+------+----+--------+----------+\nOrigin|Dest|Distance|FlightDate|\n+------+----+--------+----------+\n   SAN| SFO|     447|1987-10-14|\n   SAN| SFO|     447|1987-10-15|\n   SAN| SFO|     447|1987-10-17|\n   SAN| SFO|     447|1987-10-18|\n   SAN| SFO|     447|1987-10-19|\n   SAN| SFO|     447|1987-10-21|\n   SAN| SFO|     447|1987-10-22|\n   SAN| SFO|     447|1987-10-23|\n   SAN| SFO|     447|1987-10-24|\n   SAN| SFO|     447|1987-10-25|\n+------+----+--------+----------+\nonly showing top 10 rows\n\n</div>"
      ]
     }
    }
   ],
   "execution_count": 9
  }
 ],
 "metadata": {
  "name": "ColumnsNotebook",
  "notebookId": 3635560979762597
 },
 "nbformat": 4,
 "nbformat_minor": 0
}
