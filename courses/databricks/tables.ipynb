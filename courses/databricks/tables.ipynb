{
 "cells": [
  {
   "cell_type": "code",
   "execution_count": null,
   "id": "initial_id",
   "metadata": {
    "collapsed": true
   },
   "outputs": [],
   "source": [
    "fire_df = (\n",
    "    spark.read.format(\"csv\")\n",
    "    .option(\"header\", \"true\")\n",
    "    .option(\"inferSchema\", \"true\")\n",
    "    .load(\"/FileStore/dataset/fire_department_calls_data.csv\")\n",
    "    )"
   ]
  },
  {
   "cell_type": "code",
   "outputs": [],
   "source": [
    "fire_df.show(10)\n",
    "displayHTML(\"-------------------------------------------------------------------------\")\n",
    "display(fire_df)"
   ],
   "metadata": {
    "collapsed": false
   },
   "id": "4aa230a9680bc0e1"
  },
  {
   "cell_type": "code",
   "outputs": [],
   "source": [
    "fire_df.createGlobalTempView(\"fire_department_calls_view\")"
   ],
   "metadata": {
    "collapsed": false
   },
   "id": "468d2899cee9e9c3"
  },
  {
   "cell_type": "code",
   "outputs": [],
   "source": [
    "%sql\n",
    "select * from global_temp.fire_department_calls_view;"
   ],
   "metadata": {
    "collapsed": false
   },
   "id": "67128d8ea1ebae9a"
  },
  {
   "cell_type": "code",
   "outputs": [],
   "source": [
    "%sql\n",
    "DESCRIBE global_temp.fire_department_calls_view;"
   ],
   "metadata": {
    "collapsed": false
   },
   "id": "dfebbeda0ab909c8"
  },
  {
   "cell_type": "code",
   "outputs": [],
   "source": [
    "%sql\n",
    "-- DROP TABLE IF EXISTS demo_db.fire_department_calls;\n",
    "-- DROP VIEW IF EXISTS demo_db;"
   ],
   "metadata": {
    "collapsed": false
   },
   "id": "728d40a188f08753"
  },
  {
   "cell_type": "code",
   "outputs": [],
   "source": [
    "%fs \n",
    "rm -r /user/hive/warehouse/demo_db.db"
   ],
   "metadata": {
    "collapsed": false
   },
   "id": "11a9ee92708b71a9"
  },
  {
   "cell_type": "code",
   "outputs": [],
   "source": [
    "%sql\n",
    "CREATE DATABASE IF NOT EXISTS demo_db;"
   ],
   "metadata": {
    "collapsed": false
   },
   "id": "30a401bc65725822"
  },
  {
   "cell_type": "code",
   "outputs": [],
   "source": [
    "%sql\n",
    "CREATE TABLE IF NOT EXISTS demo_db.fire_department_calls (\n",
    "    call_number INT,\n",
    "    unit_id STRING,\n",
    "    incident_number INT,\n",
    "    call_type STRING,\n",
    "    call_date TIMESTAMP,\n",
    "    watch_date TIMESTAMP,\n",
    "    received_dttm TIMESTAMP,\n",
    "    entry_dttm TIMESTAMP,\n",
    "    dispatch_dttm TIMESTAMP,\n",
    "    response_dttm TIMESTAMP,\n",
    "    on_scene_dttm TIMESTAMP,\n",
    "    transport_dttm TIMESTAMP,\n",
    "    hospital_dttm TIMESTAMP,\n",
    "    call_final_disposition STRING,\n",
    "    available_dttm TIMESTAMP,\n",
    "    address STRING,\n",
    "    city STRING,\n",
    "    zipcode_of_incident INT,\n",
    "    battalion STRING,\n",
    "    station_area INT,\n",
    "    box INT,\n",
    "    original_priority STRING,\n",
    "    priority STRING,\n",
    "    final_priority INT,\n",
    "    als_unit BOOLEAN,\n",
    "    number_of_alarms INT,\n",
    "    unit_type STRING,\n",
    "    unit_sequence_in_call_dispatch INT,\n",
    "    fire_prevention_district STRING,\n",
    "    supervisor_district STRING,\n",
    "    neighborhoods_analysis_boundaries STRING,\n",
    "    rowid STRING,\n",
    "    case_location_type STRING,\n",
    "    case_location_coordinates_0 DOUBLE,\n",
    "    case_location_coordinates_1 DOUBLE,\n",
    "    data_as_of TIMESTAMP,\n",
    "    data_loaded_at TIMESTAMP,\n",
    "    computed_region_ajp5_b2md INT\n",
    ") USING PARQUET;\n"
   ],
   "metadata": {
    "collapsed": false
   },
   "id": "6cc086d67368661b"
  },
  {
   "cell_type": "code",
   "outputs": [],
   "source": [
    "%sql\n",
    "INSERT INTO demo_db.fire_department_calls\n",
    "select * from global_temp.fire_department_calls_view"
   ],
   "metadata": {
    "collapsed": false
   },
   "id": "b72892f032497b17"
  },
  {
   "cell_type": "code",
   "outputs": [],
   "source": [
    "%sql\n",
    "select * from demo_db.fire_department_calls"
   ],
   "metadata": {
    "collapsed": false
   },
   "id": "98e8813da51ad420"
  }
 ],
 "metadata": {
  "kernelspec": {
   "display_name": "Python 3",
   "language": "python",
   "name": "python3"
  },
  "language_info": {
   "codemirror_mode": {
    "name": "ipython",
    "version": 2
   },
   "file_extension": ".py",
   "mimetype": "text/x-python",
   "name": "python",
   "nbconvert_exporter": "python",
   "pygments_lexer": "ipython2",
   "version": "2.7.6"
  }
 },
 "nbformat": 4,
 "nbformat_minor": 5
}
