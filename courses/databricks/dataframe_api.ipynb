{
 "cells": [
  {
   "cell_type": "code",
   "execution_count": null,
   "id": "initial_id",
   "metadata": {
    "collapsed": true
   },
   "outputs": [],
   "source": [
    "from pyspark.sql.functions import to_date, col, expr, avg, min, max, count, year, countDistinct, weekofyear"
   ]
  },
  {
   "cell_type": "code",
   "outputs": [],
   "source": [
    "fire_df = (\n",
    "    spark.read.format(\"csv\")\n",
    "    .option(\"header\", \"true\")\n",
    "    .option(\"inferSchema\", \"true\")\n",
    "    .load(\"/FileStore/dataset/fire_department_calls_data.csv\")\n",
    "    )"
   ],
   "metadata": {
    "collapsed": false
   },
   "id": "3fd6f32a3222ee6c"
  },
  {
   "cell_type": "code",
   "outputs": [],
   "source": [
    "renamed_fire_df = fire_df.withColumnRenamed(\"zipcode_of_incident\", \"zipcode\")\n",
    "display(renamed_fire_df)"
   ],
   "metadata": {
    "collapsed": false
   },
   "id": "3d8e9f62e8eee733"
  },
  {
   "cell_type": "code",
   "outputs": [],
   "source": [
    "renamed_fire_df.printSchema()"
   ],
   "metadata": {
    "collapsed": false
   },
   "id": "ff2cedf4bc798474"
  },
  {
   "cell_type": "code",
   "outputs": [],
   "source": [
    "transformed_fire_df = (\n",
    "    renamed_fire_df\n",
    "    .withColumn(\"call_date\", to_date(\"call_date\"))\n",
    "    .withColumn(\"delay\", (col(\"dispatch_dttm\")-col(\"received_dttm\")).cast(\"integer\"))\n",
    "    )\n",
    "display(transformed_fire_df)\n",
    "displayHTML(\"------------------------------------------------------------------------------------------------------\")\n",
    "transformed_fire_df.printSchema()"
   ],
   "metadata": {
    "collapsed": false
   },
   "id": "6b5021e96c62076e"
  },
  {
   "cell_type": "code",
   "outputs": [],
   "source": [
    "transformed_fire_df.cache()"
   ],
   "metadata": {
    "collapsed": false
   },
   "id": "2b566d4cca599524"
  },
  {
   "cell_type": "code",
   "outputs": [],
   "source": [
    "%md\n",
    "#### 1) How many distinct types of calls were made to the fire department? \n",
    "*İtfaiye departmanına kaç farklı türde çağrı yapılmıştır?*"
   ],
   "metadata": {
    "collapsed": false
   },
   "id": "642a8be93f7ba103"
  },
  {
   "cell_type": "code",
   "outputs": [],
   "source": [
    "# Solution-1:\n",
    "transformed_fire_df.createOrReplaceTempView(\"transformed_fire_view\")\n",
    "sql_df = spark.sql(\"\"\"\n",
    "                   select count(distinct call_type) \n",
    "                   from transformed_fire_view \n",
    "                   where call_type is not null\n",
    "                   \"\"\")\n",
    "display(sql_df)"
   ],
   "metadata": {
    "collapsed": false
   },
   "id": "6f612f1caa53dc1f"
  },
  {
   "cell_type": "code",
   "outputs": [],
   "source": [
    "# Solution-2:\n",
    "api_df = transformed_fire_df.where(\"call_type is not null\").select(\"call_type\").distinct()\n",
    "display(api_df.count())"
   ],
   "metadata": {
    "collapsed": false
   },
   "id": "8a58622e62bbbb8"
  },
  {
   "cell_type": "code",
   "outputs": [],
   "source": [
    "%md\n",
    "#### 2) What are distinct types of calls made to the fire department? \n",
    "*İtfaiye departmanına yapılan farklı türdeki çağrılar nelerdir?*\n",
    "\n",
    "```sql\n",
    "select distinct call_type \n",
    "from demo_db.fire_department_calls \n",
    "where call_type is not null;"
   ],
   "metadata": {
    "collapsed": false
   },
   "id": "f2b284cb65674547"
  },
  {
   "cell_type": "code",
   "outputs": [],
   "source": [
    "api_df = transformed_fire_df.where(\"call_type is not null\").select(expr(\"call_type as distinct_call_type\")).distinct()\n",
    "api_df.show(truncate=False)\n",
    "displayHTML(\"-------------------------------------------------------------------------\")\n",
    "display(api_df)"
   ],
   "metadata": {
    "collapsed": false
   },
   "id": "c1a3bfacbc1eb648"
  },
  {
   "cell_type": "code",
   "outputs": [],
   "source": [
    "%md\n",
    "#### 3) Find out all responses for delayed times greater than 5 mins?\n",
    "*5 dakikadan uzun gecikme süreleri için tüm yanıtları (çağruları) bulun* \n",
    "\n",
    "```sql\n",
    "SELECT call_number, delay AS delayed_time\n",
    "FROM demo_db.fire_department_calls\n",
    "WHERE delay > 5*60\n",
    "ORDER BY delayed_time DESC;"
   ],
   "metadata": {
    "collapsed": false
   },
   "id": "8c523d9c0f6866f8"
  },
  {
   "cell_type": "code",
   "outputs": [],
   "source": [
    "api_df = transformed_fire_df.where(\"delay > 5*60\").select(\"call_number\", \"delay\")\n",
    "api_df.show()"
   ],
   "metadata": {
    "collapsed": false
   },
   "id": "fdb76931625fd0e6"
  },
  {
   "cell_type": "code",
   "outputs": [],
   "source": [
    "%md\n",
    "#### 4) What were the most common call types? \n",
    "*En yaygın çağrı türleri nelerdi?*\n",
    "\n",
    "```sql\n",
    "select call_type, count(*) as call_count \n",
    "from demo_db.fire_department_calls\n",
    "where call_type is not null;\n",
    "group by call_type\n",
    "order by call_count desc"
   ],
   "metadata": {
    "collapsed": false
   },
   "id": "f70e76504ab26050"
  },
  {
   "cell_type": "code",
   "outputs": [],
   "source": [
    "api_df = (transformed_fire_df\n",
    "          .where(\"call_type is not null\")\n",
    "          .select(\"call_type\")\n",
    "          .groupBy(\"call_type\").count()\n",
    "          .orderBy(\"count\", ascending=False)\n",
    "          )\n",
    "api_df.show(truncate=False)\n",
    "\"\"\"\n",
    "Note: \n",
    "1) DataFrame.count() -> Action\n",
    "2) GroupedData.count() -> Transformation\n",
    "\"\"\""
   ],
   "metadata": {
    "collapsed": false
   },
   "id": "d38b14f71b60a8c4"
  },
  {
   "cell_type": "code",
   "outputs": [],
   "source": [
    "%md\n",
    "#### 5) What zip codes accounted for the most common calls (types)? \n",
    "*En yaygın çağrıların hangi posta kodları hesaplandı?*\n",
    "\n",
    "```sql\n",
    "select call_type, zipcode, count(*) as call_count \n",
    "from demo_db.fire_department_calls\n",
    "where CallType is not null\n",
    "group by call_type, zipcode\n",
    "order by call_count desc"
   ],
   "metadata": {
    "collapsed": false
   },
   "id": "488eee90e3566163"
  },
  {
   "cell_type": "code",
   "outputs": [],
   "source": [
    "api_df = (transformed_fire_df\n",
    "          .select(\"call_type\", \"zipcode\")\n",
    "          .where(\"call_type is not null\")\n",
    "          .groupBy(\"call_type\", \"zipcode\").count()\n",
    "          .orderBy(\"count\", ascending=False)\n",
    "          )\n",
    "api_df.show(truncate=False)"
   ],
   "metadata": {
    "collapsed": false
   },
   "id": "42c136b582c9c79f"
  },
  {
   "cell_type": "code",
   "outputs": [],
   "source": [
    "%md\n",
    "#### 6) What San Francisco neighborhoods are in the zip codes 94102 and 94103\n",
    "*94102 ve 94103 posta kodlarında hangi San Francisco mahalleleri bulunmaktadır?* \n",
    "\n",
    "```sql\n",
    "select neighborhoods_analysis_boundaries \n",
    "from demo_db.fire_department_calls\n",
    "where zipcode in (94102, 94103)\n"
   ],
   "metadata": {
    "collapsed": false
   },
   "id": "cb5ea134f65f48ab"
  },
  {
   "cell_type": "code",
   "outputs": [],
   "source": [
    "api_df = transformed_fire_df.where(\"zipcode in (94102, 94103)\").select(\"neighborhoods_analysis_boundaries\").distinct()\n",
    "api_df.show(truncate=False)"
   ],
   "metadata": {
    "collapsed": false
   },
   "id": "8168a42916a3d417"
  },
  {
   "cell_type": "code",
   "outputs": [],
   "source": [
    "%md\n",
    "#### 7) What was the sum of all calls, average, min, and max of the call response times? \n",
    "*Tüm çağrıların toplamı ve ortalama, minimum ve maksimum yanıt süreleri nedir?*\n",
    "\n",
    "```sql\n",
    "select count(call_number), avg(delay), min(delay), max(delay) \n",
    "from demo_db.fire_department_calls"
   ],
   "metadata": {
    "collapsed": false
   },
   "id": "6f71df4838d8752e"
  },
  {
   "cell_type": "code",
   "outputs": [],
   "source": [
    "api_df = transformed_fire_df.agg(\n",
    "    count(\"call_number\").alias(\"count_call_number\"),\n",
    "    avg(\"delay\").alias(\"average_delay\"),\n",
    "    min(\"delay\").alias(\"minimum_delay\"),\n",
    "    max(\"delay\").alias(\"maximum_delay\")\n",
    ")\n",
    "api_df.show()"
   ],
   "metadata": {
    "collapsed": false
   },
   "id": "e941a2af119a8342"
  },
  {
   "cell_type": "code",
   "outputs": [],
   "source": [
    "%md\n",
    "#### 8) How many distinct years of data are in the CSV file?\n",
    "*CSV dosyasındaki kaç farklı yıl verisi vardır?* \n",
    "\n",
    "```sql\n",
    "select count(distinct year(call_date)) from demo_db.fire_department_calls"
   ],
   "metadata": {
    "collapsed": false
   },
   "id": "a6db818990e8ed08"
  },
  {
   "cell_type": "code",
   "outputs": [],
   "source": [
    "# api_df = transformed_fire_df.select(year(\"call_date\").alias(\"year\")).distinct().count()\n",
    "api_df = transformed_fire_df.select(year(\"call_date\").alias(\"year\")).agg(countDistinct(\"year\"))\n",
    "api_df.show()"
   ],
   "metadata": {
    "collapsed": false
   },
   "id": "fb7cb0969d002379"
  },
  {
   "cell_type": "code",
   "outputs": [],
   "source": [
    "%md\n",
    "#### 9) What week of the year in 2006 had the most fire calls? \n",
    "*2006'in kaçıncı haftası en fazla itfaiye çağrısını gösteriyor?*\n",
    "\n",
    "```sql\n",
    "select weekofyear(call_date) as weekofyear, count(*) as fire_call_count from demo_db.fire_department_calls\n",
    "where year(call_date) == 2006\n",
    "group by weekofyear(call_date)\n",
    "order by fire_call_count desc limit 1"
   ],
   "metadata": {
    "collapsed": false
   },
   "id": "f0abc11717c778dc"
  },
  {
   "cell_type": "code",
   "outputs": [],
   "source": [
    "api_df = (transformed_fire_df\n",
    "          .where(\"year(call_date) == 2006\")\n",
    "          .select(weekofyear(\"call_date\").alias(\"weekofyear\"))\n",
    "          .groupBy(\"weekofyear\").count()\n",
    "          .orderBy(\"count\", ascending=False).limit(1))\n",
    "display(api_df)"
   ],
   "metadata": {
    "collapsed": false
   },
   "id": "a4f1de55bab655d4"
  },
  {
   "cell_type": "code",
   "outputs": [],
   "source": [
    "%md\n",
    "#### 10) What neighborhoods in San Francisco had the worst response time in 2006? \n",
    "*2006'de San Francisco mahallelerinde en kötü yanıt süresine sahip mahalleler hangileridir?*\n",
    "\n",
    "```sql\n",
    "select neighborhoods_analysis_boundaries, avg(delay) as avg_delayed_time\n",
    "from demo_db.fire_department_calls\n",
    "where year(call_date) == 2006\n",
    "group by neighborhoods_analysis_boundaries\n",
    "order by avg_delayed_time desc limit 1"
   ],
   "metadata": {
    "collapsed": false
   },
   "id": "b5cb1fed8816ad5e"
  },
  {
   "cell_type": "code",
   "outputs": [],
   "source": [
    "api_df = (transformed_fire_df\n",
    "          .where(\"year(call_date) == 2006\")\n",
    "          .select(\"neighborhoods_analysis_boundaries\", \"delay\")\n",
    "          .groupBy(\"neighborhoods_analysis_boundaries\").avg()\n",
    "          .orderBy(\"avg(delay)\", ascending=False).limit(1)\n",
    "          )\n",
    "display(api_df)"
   ],
   "metadata": {
    "collapsed": false
   },
   "id": "6f9e4e14192940fe"
  }
 ],
 "metadata": {
  "kernelspec": {
   "display_name": "Python 3",
   "language": "python",
   "name": "python3"
  },
  "language_info": {
   "codemirror_mode": {
    "name": "ipython",
    "version": 2
   },
   "file_extension": ".py",
   "mimetype": "text/x-python",
   "name": "python",
   "nbconvert_exporter": "python",
   "pygments_lexer": "ipython2",
   "version": "2.7.6"
  }
 },
 "nbformat": 4,
 "nbformat_minor": 5
}
